{
 "cells": [
  {
   "cell_type": "markdown",
   "metadata": {},
   "source": [
    "# GMM\n",
    "\n",
    "This notebook shows a simple example of how GMM can be used to estimate model parameters. It starts with an exactly identified case and then moves on to different ways of estimating an overidentified case (pre-defined weighting matrix, recombining the moment conditions, optimal weighting matrix).\n",
    "\n",
    "It is modified from Paul Soderlind https://github.com/PaulSoderlind/FinancialEconometrics/blob/master/Ch25_GMM.ipynb\n",
    "\n",
    "We use the file 'printmat.jl' to print nicely elements of matrix. It is in a folder 'jlFiles'.\n",
    "\n",
    "We use the data 'FFmFactorsPs.csv'. It is in a folder 'Data'."
   ]
  },
  {
   "cell_type": "markdown",
   "metadata": {},
   "source": [
    "## Load Packages and Extra Functions"
   ]
  },
  {
   "cell_type": "code",
   "execution_count": 1,
   "metadata": {},
   "outputs": [
    {
     "data": {
      "text/plain": [
       "CovNWFn"
      ]
     },
     "metadata": {},
     "output_type": "display_data"
    }
   ],
   "source": [
    "using Printf, DelimitedFiles, Statistics, LinearAlgebra, Optim, NLsolve\n",
    "\n",
    "include(\"jlFiles/printmat.jl\") # I have this file in the folder 'jlFiles'.\n",
    "include(\"jlFiles/CovNWFn.jl\")"
   ]
  },
  {
   "cell_type": "markdown",
   "metadata": {},
   "source": [
    "# Loading Data"
   ]
  },
  {
   "cell_type": "code",
   "execution_count": 2,
   "metadata": {},
   "outputs": [
    {
     "data": {
      "text/plain": [
       "388"
      ]
     },
     "metadata": {},
     "output_type": "display_data"
    }
   ],
   "source": [
    "x = readdlm(\"Data/FFmFactorsPs.csv\",',',skipstart=1)   #start on line 2, column 1\n",
    "x = x[:,2]         #excess market returns, in %\n",
    "\n",
    "T = size(x,1)"
   ]
  },
  {
   "cell_type": "markdown",
   "metadata": {},
   "source": [
    "# GMM I\n",
    "\n",
    "This section describes the basic (exactly identified) GMM, that is, when we have as many moment conditions as parameters. In this case GMM is the same as the classical method of moments."
   ]
  },
  {
   "cell_type": "markdown",
   "metadata": {},
   "source": [
    "## Traditional Estimation of Mean and Variance\n",
    "\n",
    "The next cell applies the traditional way of estimating the mean and the variance."
   ]
  },
  {
   "cell_type": "code",
   "execution_count": 14,
   "metadata": {},
   "outputs": [
    {
     "name": "stdout",
     "output_type": "stream",
     "text": [
      "\u001b[34m\u001b[1mTraditional estimates:\u001b[22m\u001b[39m\n",
      "\n",
      "        coef       std\n",
      "μ      0.602     0.233\n",
      "σ²    21.142     1.518\n",
      "\n"
     ]
    }
   ],
   "source": [
    "μ  = mean(x)\n",
    "σ² = var(x,corrected=false)       #\"false\" to use 1/T formula\n",
    "\n",
    "par_a = [μ;σ²]\n",
    "\n",
    "printblue(\"Traditional estimates:\\n\")\n",
    "xx = [par_a [sqrt((σ²/T));sqrt(2*σ²^2/T)]] # it is cumbersome to show the formula for variance of sample variance: $sqrt(2*σ²^2/T$ take it as given\n",
    "colNames = [\"coef\",\"std\"]\n",
    "parNames = [\"μ\",\"σ²\"]\n",
    "printmat(xx;colNames,rowNames=parNames)      # ; since keywords with same name"
   ]
  },
  {
   "cell_type": "markdown",
   "metadata": {},
   "source": [
    "## GMM Point Estimates and Distribution\n",
    "\n",
    "To estimate the mean and variance of $x_{t}$, use the following moment condition\n",
    "\n",
    "$\n",
    "\\frac{1}{T}\\sum\\nolimits_{t=1}^{T}g_{t}=0 \\:\n",
    "$\n",
    "where\n",
    "$\n",
    "g_{t}(\\mu,\\sigma^{2})= \\begin{bmatrix}\n",
    "x_{t}-\\mu\\\\\n",
    "(x_{t}-\\mu)^{2}-\\sigma^{2}\n",
    "\\end{bmatrix}\n",
    "$\n",
    "\n",
    "The parameter values ($\\mu,\\sigma^2$) that make these moment conditions hold are the same as from the traditional method. \n",
    "\n",
    "In general, we have to solve the moment conditions for the GMM estimates. Although, this is simple in the linear case considered here, it may be trickier in non-linear models. To facilitate adapting the code to non-linear models, we solve for the parameters by a numerical method (and also double check that they indeed are the same as before).\n",
    "\n",
    "The distribution of the estimates is\n",
    "\n",
    "$\n",
    "\\sqrt{T}(\\hat{\\mu}-\\mu_{0})\\overset{d}{\\rightarrow}N(0,V) \n",
    "\\: \\text{ where } \\: \n",
    "V = (D_{0}^{\\prime}S_{0}^{-1}D_{0})  ^{-1}\n",
    "$\n",
    "\n",
    "Clearly, in our example, $D_{0}=-\\textrm{I}$ and if data is iid then $S_{0}=\\text{Var}(g_{t})$."
   ]
  },
  {
   "cell_type": "code",
   "execution_count": 9,
   "metadata": {},
   "outputs": [
    {
     "data": {
      "text/plain": [
       "Gmm2MomFn"
      ]
     },
     "metadata": {},
     "output_type": "display_data"
    }
   ],
   "source": [
    "\"\"\"\n",
    "    Gmm2MomFn(par,x)\n",
    "\n",
    "Calculate traditional 2 moment conditions for estimating [μ,σ²]\n",
    "\n",
    "# Input\n",
    "- `par::Vector`: [μ,σ²]\n",
    "- `x::Vector`:   T-vector with data\n",
    "\n",
    "# Output\n",
    "- `g::Matrix`:    Tx2, moment conditions\n",
    "- `gbar::Vector`: 2-vector, means of each column in g\n",
    "\n",
    "\"\"\"\n",
    "function Gmm2MomFn(par,x)\n",
    "    (μ,σ²) = (par[1],par[2])\n",
    "    g      = [(x .- μ) ((x .- μ).^2 .- σ²)]  #Tx2\n",
    "    gbar   = vec(mean(g,dims=1))             #2-element vector: sample moment\n",
    "    return g,gbar\n",
    "end"
   ]
  },
  {
   "cell_type": "code",
   "execution_count": 32,
   "metadata": {},
   "outputs": [
    {
     "name": "stdout",
     "output_type": "stream",
     "text": [
      "\u001b[34m\u001b[1mGMM estimates:\u001b[22m\u001b[39m\n",
      "μ      0.602\n",
      "σ²    21.142\n",
      "\n",
      "\u001b[34m\u001b[1mChecking if mean of moment conditions = 0\u001b[22m\u001b[39m\n",
      "g₁    -0.000\n",
      "g₂    -0.000\n",
      "\n"
     ]
    }
   ],
   "source": [
    "guess = [0.0, 0.0] # initial guess for parameters of interest\n",
    "Sol = nlsolve(p->Gmm2MomFn(p,x)[2],guess )   #numerically solve for the estimates: we (approximately) solve gbar=0, where 'gbar' (sample moment) is the second output from 'Gmm2MomFn'\n",
    "par_1 = Sol.zero\n",
    "\n",
    "printblue(\"GMM estimates:\")\n",
    "printmat(par_1,rowNames=parNames)\n",
    "\n",
    "(g,gbar) = Gmm2MomFn(par_1,x)           #Tx2, moment conditions\n",
    "printblue(\"Checking if mean of moment conditions = 0\")\n",
    "printmat(gbar,rowNames=[\"g₁\",\"g₂\"])"
   ]
  },
  {
   "cell_type": "code",
   "execution_count": 33,
   "metadata": {},
   "outputs": [
    {
     "name": "stdout",
     "output_type": "stream",
     "text": [
      "\u001b[34m\u001b[1mGMM estimates:\u001b[22m\u001b[39m\n",
      "\n",
      "        coef       std\n",
      "μ      0.602     0.244\n",
      "σ²    21.142     2.381\n",
      "\n",
      "\u001b[31m\u001b[1mCompare with the traditional estimates\u001b[22m\u001b[39m"
     ]
    }
   ],
   "source": [
    "D  = -I(2)                   #Jacobian, does not really matter here\n",
    "S  = CovNWFn(g,1)/T          #Newey-West with 1 lag: Var-cov matrix of sample average\n",
    "V1 = inv(D'inv(S)*D)\n",
    "\n",
    "printblue(\"GMM estimates:\\n\")\n",
    "xx = [par_1 sqrt.(diag(V1/T))]\n",
    "printmat(xx;colNames,rowNames=parNames)\n",
    "\n",
    "printstyled(\"Compare with the traditional estimates\",color=:red,bold=true)"
   ]
  },
  {
   "cell_type": "markdown",
   "metadata": {},
   "source": [
    "# GMM II\n",
    "\n",
    "This section expands the GMM calculations by doing an overidentified case: more moment conditions than parameters.\n",
    "\n",
    "Warning: some of the variables (```g,S,etc```) are overwritten with new values."
   ]
  },
  {
   "cell_type": "markdown",
   "metadata": {},
   "source": [
    "## The Moment Conditions\n",
    "\n",
    "If $x_{t}$ is $N(\\mu,\\sigma^{2})$, then the following moment conditions should\n",
    "all be zero (in expectation)\n",
    "\n",
    "$\n",
    "g_{t}(\\mu,\\sigma^{2})=\\begin{bmatrix}\n",
    "x_{t}-\\mu\\\\\n",
    "(x_{t}-\\mu)^{2}-\\sigma^{2}\\\\\n",
    "(x_{t}-\\mu)^{3}\\\\\n",
    "(x_{t}-\\mu)^{4}-3\\sigma^{4}\n",
    "\\end{bmatrix}.\n",
    "$\n",
    "\n",
    "The first moment condition defines the mean $\\mu$, the second defines the\n",
    "variance $\\sigma^{2}$, while the third and forth are the skewness and excess\n",
    "kurtosis respectively.\n",
    "\n",
    "The next cell also has a function for calculating the jacobian of the moment conditions. In this linear model, it is fairly straightforward to code. Otherwise, we could apply a numerical algorithm for calculating derivatives, for instance, from the [FiniteDiff.jl](https://github.com/JuliaDiff/FiniteDiff.jl) package."
   ]
  },
  {
   "cell_type": "code",
   "execution_count": 34,
   "metadata": {},
   "outputs": [
    {
     "data": {
      "text/plain": [
       "DGmm4MomFn"
      ]
     },
     "metadata": {},
     "output_type": "display_data"
    }
   ],
   "source": [
    "\"\"\"\n",
    "    Gmm4MomFn(par,x)\n",
    "\n",
    "Calculate 4 moment conditions for estimating [μ,σ²]\n",
    "\n",
    "# Input\n",
    "- `par::Vector`: [μ,σ²]\n",
    "- `x::Vector`:   T-vector with data\n",
    "\n",
    "\"\"\"\n",
    "function Gmm4MomFn(par,x)\n",
    "  (μ,σ²) = (par[1],par[2])\n",
    "  g      = [(x .- μ) ((x .- μ).^2 .- σ²) ((x .- μ).^3) ((x .- μ).^4 .- 3*σ²^2)]    #Tx4\n",
    "  gbar   = vec(mean(g,dims=1))     #4-element vector\n",
    "  return g,gbar\n",
    "end\n",
    "\n",
    "\"\"\"\n",
    "    DGmm4MomFn(par,x)\n",
    "\n",
    "Calculate (analytical) Jacobian of Gmm4MomFn(), 4x2\n",
    "\n",
    "\"\"\"\n",
    "function DGmm4MomFn(par,x)\n",
    "    (μ,σ²) = (par[1],par[2])\n",
    "    D  = [-1                  0    ;     #Jacobian of Gmm4MomFn, 4x2\n",
    "          -2*mean(x.-μ)      -1    ;\n",
    "          -3*mean((x.-μ).^2)   0   ;\n",
    "          -4*mean((x.-μ).^3)  -6*σ²]\n",
    "    return D\n",
    "end"
   ]
  },
  {
   "cell_type": "markdown",
   "metadata": {},
   "source": [
    "## GMM: Minimizing gbar'W*gbar\n",
    "\n",
    "\n",
    "The following code applies a numerical method to solve a minimization problem with the weighting matrix \n",
    "\n",
    "$\n",
    "W=\\begin{bmatrix}\n",
    "1 & 0 & 0 & 0\\\\\n",
    "0 & 1 & 0 & 0\\\\\n",
    "0 & 0 & 0 & 0\\\\\n",
    "0 & 0 & 0 & 0\n",
    "\\end{bmatrix}\n",
    "$\n",
    "\n",
    "The results should be the same (or at least very close to) the previous results, since the $W$ matrix puts all weight on the first two moments (basically mimicking the estimations above). Changing $W$, for instance, by setting $W[3,3]=0.0001$ will give other estimates.\n",
    "\n",
    "We define the loss function as \n",
    "\n",
    "$\n",
    "\\bar{g}'W\\bar{g}\n",
    "$\n",
    "\n",
    "As a practical matter, it is often the case that a derivative-free method works better than other optimization routines."
   ]
  },
  {
   "cell_type": "code",
   "execution_count": 35,
   "metadata": {},
   "outputs": [
    {
     "data": {
      "text/plain": [
       "Gmm4MomLossFn"
      ]
     },
     "metadata": {},
     "output_type": "display_data"
    }
   ],
   "source": [
    "\"\"\"\n",
    "    Gmm4MomLossFn(par,x,W=1)\n",
    "\n",
    "Calculate loss function from moment conditions in Gmm4MomFn() and a weighting matrix W.\n",
    "\n",
    "# Input\n",
    "-`par`: see Gmm4MomFn \n",
    "-`x`:   see Gmm4MomFn\n",
    "-`W::Number or Matrix`:  weighting matrix (or just any positive number)\n",
    "\n",
    "# Output\n",
    "- `Loss:: Number`: Loss function value\n",
    "\n",
    "\"\"\"\n",
    "function Gmm4MomLossFn(par,x,W=1)\n",
    "  (g,gbar) = Gmm4MomFn(par,x)\n",
    "  Loss     = 1.0 + gbar'W*gbar      #to be minimized\n",
    "  return Loss\n",
    "end"
   ]
  },
  {
   "cell_type": "code",
   "execution_count": 36,
   "metadata": {},
   "outputs": [
    {
     "name": "stdout",
     "output_type": "stream",
     "text": [
      "\u001b[34m\u001b[1mGMM estimates from minimizing gbar'W*gbar:\u001b[22m\u001b[39m\n",
      "μ      0.602\n",
      "σ²    21.142\n",
      "\n"
     ]
    }
   ],
   "source": [
    "W     = diagm(0=>[1.0,1.0,0.0,0.0])   #weighting matrix, try changing it\n",
    "#W[3,3] = 0.0001\n",
    "Sol   = optimize(par->Gmm4MomLossFn(par,x,W),par_a)\n",
    "par_2 = Optim.minimizer(Sol)\n",
    "\n",
    "printblue(\"GMM estimates from minimizing gbar'W*gbar:\")\n",
    "printmat(par_2,rowNames=parNames)"
   ]
  },
  {
   "cell_type": "code",
   "execution_count": 37,
   "metadata": {
    "scrolled": true
   },
   "outputs": [
    {
     "name": "stdout",
     "output_type": "stream",
     "text": [
      "\u001b[34m\u001b[1mThe Jacobian is:\u001b[22m\u001b[39m\n",
      "\n",
      "           μ        σ²\n",
      "g₁    -1.000     0.000\n",
      "g₂    -0.000    -1.000\n",
      "g₃   -63.427     0.000\n",
      "g₄   314.797  -126.854\n",
      "\n",
      "\u001b[34m\u001b[1mWeighting matrix:\u001b[22m\u001b[39m\n",
      "\n",
      "          g₁        g₂        g₃        g₄\n",
      "g₁     1.000     0.000     0.000     0.000\n",
      "g₂     0.000     1.000     0.000     0.000\n",
      "g₃     0.000     0.000     0.000     0.000\n",
      "g₄     0.000     0.000     0.000     0.000\n",
      "\n",
      "\u001b[34m\u001b[1mGMM estimates (gbar'W*gbar):\u001b[22m\u001b[39m\n",
      "\n",
      "        coef       std\n",
      "μ      0.602     0.244\n",
      "σ²    21.142     2.381\n",
      "\n"
     ]
    }
   ],
   "source": [
    "momNames = [\"g₁\",\"g₂\",\"g₃\",\"g₄\"]\n",
    "\n",
    "D  = DGmm4MomFn(par_2,x)               #Jacobian, 4x2\n",
    "printblue(\"The Jacobian is:\\n\")\n",
    "printmat(D,rowNames=momNames,colNames=parNames)\n",
    "\n",
    "g,    = Gmm4MomFn(par_2,x)                #Tx4, moment conditions, evaluated at point estimates\n",
    "S     = CovNWFn(g,1)/T                    #variance of sqrt(T)\"gbar, NW with 1 lag\n",
    "V2    = inv(D'W*D)*D'W*S*W'D*inv(D'W*D)   #see lecture notes for V2\n",
    "\n",
    "printblue(\"Weighting matrix:\\n\")\n",
    "printmat(W,colNames=momNames,rowNames=momNames)\n",
    "\n",
    "printblue(\"GMM estimates (gbar'W*gbar):\\n\")\n",
    "xx = [par_2 sqrt.(diag(V2/T))]\n",
    "printmat(xx;colNames,rowNames=parNames)"
   ]
  },
  {
   "cell_type": "markdown",
   "metadata": {},
   "source": [
    "## Checking the Calculation of the Jacobian\n",
    "\n",
    "by using also a numerical method."
   ]
  },
  {
   "cell_type": "code",
   "execution_count": 40,
   "metadata": {},
   "outputs": [
    {
     "ename": "ErrorException",
     "evalue": "syntax: whitespace not allowed after \":\" used for quoting",
     "output_type": "error",
     "traceback": [
      "syntax: whitespace not allowed after \":\" used for quoting\n",
      "\n",
      "Stacktrace:\n",
      " [1] top-level scope at c:\\Users\\esba001\\Erwann\\Cours\\721\\Julia\\GMM Julia\\GMM.ipynb:4\n",
      " [2] include_string(::Function, ::Module, ::String, ::String) at .\\loading.jl:1091\n",
      " [3] #invokelatest#1 at .\\essentials.jl:710 [inlined]\n",
      " [4] invokelatest at .\\essentials.jl:709 [inlined]\n",
      " [5] (::VSCodeServer.var\"#146#147\"{VSCodeServer.NotebookRunCellArguments,String})() at c:\\Users\\esba001\\.vscode\\extensions\\julialang.language-julia-1.5.11\\scripts\\packages\\VSCodeServer\\src\\serve_notebook.jl:18\n",
      " [6] withpath(::VSCodeServer.var\"#146#147\"{VSCodeServer.NotebookRunCellArguments,String}, ::String) at c:\\Users\\esba001\\.vscode\\extensions\\julialang.language-julia-1.5.11\\scripts\\packages\\VSCodeServer\\src\\repl.jl:185\n",
      " [7] notebook_runcell_request(::VSCodeServer.JSONRPC.JSONRPCEndpoint{Base.PipeEndpoint,Base.PipeEndpoint}, ::VSCodeServer.NotebookRunCellArguments) at c:\\Users\\esba001\\.vscode\\extensions\\julialang.language-julia-1.5.11\\scripts\\packages\\VSCodeServer\\src\\serve_notebook.jl:14\n",
      " [8] dispatch_msg(::VSCodeServer.JSONRPC.JSONRPCEndpoint{Base.PipeEndpoint,Base.PipeEndpoint}, ::VSCodeServer.JSONRPC.MsgDispatcher, ::Dict{String,Any}) at c:\\Users\\esba001\\.vscode\\extensions\\julialang.language-julia-1.5.11\\scripts\\packages\\JSONRPC\\src\\typed.jl:67\n",
      " [9] serve_notebook(::String; crashreporting_pipename::String) at c:\\Users\\esba001\\.vscode\\extensions\\julialang.language-julia-1.5.11\\scripts\\packages\\VSCodeServer\\src\\serve_notebook.jl:94\n",
      " [10] top-level scope at c:\\Users\\esba001\\.vscode\\extensions\\julialang.language-julia-1.5.11\\scripts\\notebook\\notebook.jl:12\n",
      " [11] include(::Function, ::Module, ::String) at .\\Base.jl:380\n",
      " [12] include(::Module, ::String) at .\\Base.jl:368\n",
      " [13] exec_options(::Base.JLOptions) at .\\client.jl:296\n",
      " [14] _start() at .\\client.jl:506"
     ]
    }
   ],
   "source": [
    "using FiniteDiff\n",
    "\n",
    "\n",
    "D_num = FiniteDiff.finite_difference_jacobian(par->Gmm4MomFn(par,x)[2],par_2)\n",
    "\n",
    "printblue(\"The numerical Jacobian is:\\n\")\n",
    "printmat(D_num,rowNames=momNames,colNames=parNames)\n",
    "\n",
    "printred(\"Compare with the results from DGmm4MomFn(), see above\")"
   ]
  },
  {
   "cell_type": "markdown",
   "metadata": {},
   "source": [
    "## GMM: A*g = 0\n",
    "\n",
    "\n",
    "The following code from estimates the parameters (mean and\n",
    "variance) by combining the 4 original moment conditions in $\\bar{g}$ into 2\n",
    "effective moment conditions, $A\\bar{g}$, where $A$ is a $2\\times4$ matrix\n",
    "\n",
    "$\n",
    "A=\n",
    "\\begin{bmatrix}\n",
    "1 & 0 & 0 & 0\\\\\n",
    "0 & 1 & 0 & 0\n",
    "\\end{bmatrix}\n",
    "$ \n",
    "\n",
    "This particular $A$ matrix implies that we use the classical\n",
    "estimators of the mean and variance. Changing $A$,for instance, setting $A[1,3]=0.001$ will give different estimates."
   ]
  },
  {
   "cell_type": "code",
   "execution_count": 12,
   "metadata": {},
   "outputs": [
    {
     "name": "stdout",
     "output_type": "stream",
     "text": [
      "\u001b[34m\u001b[1mGMM estimates from A*gbar=0:\u001b[22m\u001b[39m\n",
      "μ      0.602\n",
      "σ²    21.142\n",
      "\n",
      "\n",
      "\u001b[34m\u001b[1mChecking if mean of A*g_t = 0\u001b[22m\u001b[39m\n",
      "A₁g     0.000\n",
      "A₂g     0.000\n",
      "\n"
     ]
    }
   ],
   "source": [
    "A = [1 0 0 0;                   #A in A*gbar=0 (here: all weight on first two moments)\n",
    "     0 1 0 0]                   #try setting A[1,3] = 0.001\n",
    "\n",
    "Sol   = nlsolve(p->A*Gmm4MomFn(p,x)[2],par_a)   #solve for the GMM estimates\n",
    "par_3 = Sol.zero\n",
    "\n",
    "printblue(\"GMM estimates from A*gbar=0:\")\n",
    "printmat(par_3,rowNames=parNames)\n",
    "\n",
    "(g,gbar) = Gmm4MomFn(par_3,x)        #Tx4, moment conditions. Warning: overwriting old g\n",
    "q = size(g,2)\n",
    "\n",
    "printblue(\"\\nChecking if mean of A*g_t = 0\")\n",
    "printmat(A*gbar,rowNames=[\"A₁g\",\"A₂g\"])"
   ]
  },
  {
   "cell_type": "code",
   "execution_count": 13,
   "metadata": {},
   "outputs": [
    {
     "name": "stdout",
     "output_type": "stream",
     "text": [
      "\u001b[34m\u001b[1mThe Jacobian is:\u001b[22m\u001b[39m\n",
      "           μ        σ²\n",
      "g₁    -1.000     0.000\n",
      "g₂    -0.000    -1.000\n",
      "g₃   -63.427     0.000\n",
      "g₄   314.797  -126.854\n",
      "\n",
      "\u001b[34m\u001b[1mGMM estimates (A*gbar):\u001b[22m\u001b[39m\n",
      "\n",
      "        coef       std\n",
      "μ      0.602     0.244\n",
      "σ²    21.142     2.381\n",
      "\n",
      "\u001b[31m\u001b[1mCompare with the exactly identified GMM (above)\u001b[22m\u001b[39m"
     ]
    }
   ],
   "source": [
    "D  = DGmm4MomFn(par_3,x)               #Jacobian\n",
    "printblue(\"The Jacobian is:\")\n",
    "printmat(D,colNames=parNames,rowNames=momNames)\n",
    "\n",
    "S  = CovNWFn(g,1)/T\n",
    "V3 = inv(A*D)*A*S*A'inv(A*D)'          #see lecture notes for V3 \n",
    "\n",
    "printblue(\"GMM estimates (A*gbar):\\n\")\n",
    "xx = [par_3 sqrt.(diag(V3/T))]\n",
    "printmat(xx;colNames,rowNames=parNames)\n",
    "\n",
    "printstyled(\"Compare with the exactly identified GMM (above)\",color=:red,bold=true)"
   ]
  },
  {
   "cell_type": "markdown",
   "metadata": {},
   "source": [
    "# GMM: Minimizing gbar'W*gbar, Iterating over W\n",
    "\n",
    "\n",
    "The following code iterates over the weighting matrix by using $W=S^{-1}$, where\n",
    "\n",
    "$S = \\text{Cov}(\\sqrt{T}\\bar{g})$ \n",
    "\n",
    "is from the previous iteration."
   ]
  },
  {
   "cell_type": "code",
   "execution_count": 14,
   "metadata": {},
   "outputs": [
    {
     "name": "stdout",
     "output_type": "stream",
     "text": [
      "\n",
      "iterated GMM, using optimal weighting matrix, starting with S from previous estimation\n",
      "\n",
      "\n",
      "iterating over W starting with the W choice above\n",
      "-------iteration  1, old and new parameters--------\n",
      "     0.602    21.142\n",
      "     0.877    16.916\n",
      "-------iteration  2, old and new parameters--------\n",
      "     0.877    16.916\n",
      "     0.879    16.648\n",
      "-------iteration  3, old and new parameters--------\n",
      "     0.879    16.648\n",
      "     0.879    16.645\n",
      "-------iteration  4, old and new parameters--------\n",
      "     0.879    16.645\n",
      "     0.879    16.647\n",
      "-------iteration  5, old and new parameters--------\n",
      "     0.879    16.647\n",
      "     0.879    16.647\n",
      "\n",
      "\u001b[34m\u001b[1mGMM estimates (gbar'W*gbar, iteration over W):\u001b[22m\u001b[39m\n",
      "          coef         std  std ver. 2\n",
      "μ        0.879       0.217       0.217\n",
      "σ²      16.647       1.311       1.311\n",
      "\n"
     ]
    }
   ],
   "source": [
    "println(\"\\niterated GMM, using optimal weighting matrix, starting with S from previous estimation\")\n",
    "\n",
    "(par_4,par0) = (copy(par_1),copy(par_1))\n",
    "(Δpar,i)     = (Inf,1)\n",
    "\n",
    "println(\"\\n\\niterating over W starting with the W choice above\")\n",
    "while (Δpar > 1e-3) || (i < 2)    #require at least one iteration\n",
    "    #global Δpar, par_4, par0, i, W, S    #only needed in script\n",
    "    local Sol, g\n",
    "    println(\"-------iteration  $i, old and new parameters--------\")\n",
    "    W               = inv(S)\n",
    "    Sol             = optimize(par->Gmm4MomLossFn(par,x,W),par0)\n",
    "    par_4           = Optim.minimizer(Sol)\n",
    "    printlnPs(par0')\n",
    "    printlnPs(par_4')\n",
    "    g,              = Gmm4MomFn(par_4,x)\n",
    "    S               = CovNWFn(g,1)/T\n",
    "    Δpar            = maximum(abs,par_4-par0)   #same as maximum(abs.(par_4-par0))\n",
    "    par0            = copy(par_4)  #par0=par_4 would make them always identical\n",
    "    i               = i + 1\n",
    " end\n",
    "\n",
    "V2 = inv(D'W*D)*D'W*S*W'D*inv(D'W*D)      #if non-optimal weighting matrix\n",
    "V1 = inv(D'inv(S)*D)                      #with optimal weighting matrix\n",
    "\n",
    "printblue(\"\\nGMM estimates (gbar'W*gbar, iteration over W):\")\n",
    "xx = [par_4 sqrt.(diag(V2/T)) sqrt.(diag(V1/T))]\n",
    "printmat(xx,colNames=[colNames;\"std ver. 2\"],rowNames=parNames,width=12)"
   ]
  },
  {
   "cell_type": "code",
   "execution_count": 15,
   "metadata": {},
   "outputs": [
    {
     "name": "stdout",
     "output_type": "stream",
     "text": [
      "\u001b[34m\u001b[1mW matrix used in the last iteration, (times 10000):\u001b[22m\u001b[39m\n",
      "\n",
      "          g₁        g₂        g₃        g₄\n",
      "g₁  1525.564    39.433   -16.963    -0.674\n",
      "g₂    39.433    18.778    -0.297    -0.050\n",
      "g₃   -16.963    -0.297     0.306     0.012\n",
      "g₄    -0.674    -0.050     0.012     0.001\n",
      "\n"
     ]
    }
   ],
   "source": [
    "printblue(\"W matrix used in the last iteration, (times 10000):\\n\")\n",
    "\n",
    "printmat(W*10000,colNames=momNames,rowNames=momNames)"
   ]
  },
  {
   "cell_type": "code",
   "execution_count": null,
   "metadata": {},
   "outputs": [],
   "source": []
  }
 ],
 "metadata": {
  "@webio": {
   "lastCommId": null,
   "lastKernelId": null
  },
  "anaconda-cloud": {},
  "kernelspec": {
   "display_name": "Julia 1.5.3",
   "language": "julia",
   "name": "julia-1.5"
  },
  "language_info": {
   "file_extension": ".jl",
   "mimetype": "application/julia",
   "name": "julia",
   "version": "1.5.3"
  }
 },
 "nbformat": 4,
 "nbformat_minor": 4
}
